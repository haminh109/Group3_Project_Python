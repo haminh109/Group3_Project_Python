{
 "cells": [
  {
   "cell_type": "markdown",
   "metadata": {},
   "source": [
    "## <font color = \"lightblue\"> **Homework 8**\n",
    "**Full name**: Hà Quang Minh <br> **ID**: 11230566 <br> **Class**: DSEB 65B </font>"
   ]
  },
  {
   "cell_type": "code",
   "execution_count": 119,
   "metadata": {},
   "outputs": [
    {
     "name": "stderr",
     "output_type": "stream",
     "text": [
      "fatal: destination path 'grade_func' already exists and is not an empty directory.\n"
     ]
    },
    {
     "name": "stdout",
     "output_type": "stream",
     "text": [
      "Already up to date.\n"
     ]
    }
   ],
   "source": [
    "!git clone https://github.com/hung20gg/grade_func.git\n",
    "!cd grade_func && git pull"
   ]
  },
  {
   "cell_type": "code",
   "execution_count": 120,
   "metadata": {},
   "outputs": [],
   "source": [
    "from grade_func.grader import test_func_from_file"
   ]
  },
  {
   "cell_type": "markdown",
   "metadata": {},
   "source": [
    "### Ex1 Handling number\n",
    "\n",
    "Write a function to calculate Greatest Common Divisor (GCD) of 2 integer > 10"
   ]
  },
  {
   "cell_type": "code",
   "execution_count": 121,
   "metadata": {},
   "outputs": [],
   "source": [
    "def gcd(num1, num2):\n",
    "    if num2 == 0:\n",
    "        return num1\n",
    "    return gcd(num2, num1 % num2)"
   ]
  },
  {
   "cell_type": "markdown",
   "metadata": {},
   "source": [
    "**Test**"
   ]
  },
  {
   "cell_type": "code",
   "execution_count": 122,
   "metadata": {},
   "outputs": [
    {
     "name": "stdout",
     "output_type": "stream",
     "text": [
      "Total tests: 5\n",
      "Passed tests: 5\n",
      "Total grade for question 1 is 1.0\n"
     ]
    }
   ],
   "source": [
    "q1 = test_func_from_file(gcd, 'hw8_q_1.txt')\n",
    "print(\"Total grade for question 1 is\", q1)"
   ]
  },
  {
   "cell_type": "markdown",
   "metadata": {},
   "source": [
    "### Ex2 Finding fibonacci number at position x \n",
    "The fibonacci number start from 0,1,1,2,3,5,..."
   ]
  },
  {
   "cell_type": "code",
   "execution_count": 123,
   "metadata": {},
   "outputs": [],
   "source": [
    "def fib(n):\n",
    "    if n == 0: \n",
    "        return 0\n",
    "    if n == 1 or n == 2:\n",
    "        return 1\n",
    "    else:\n",
    "        a = 1\n",
    "        b = 1\n",
    "        for i in range(3, n + 1):\n",
    "            temp = a + b\n",
    "            a = b\n",
    "            b = temp\n",
    "        return temp\n"
   ]
  },
  {
   "cell_type": "markdown",
   "metadata": {},
   "source": [
    "**Test**"
   ]
  },
  {
   "cell_type": "code",
   "execution_count": 124,
   "metadata": {},
   "outputs": [
    {
     "name": "stdout",
     "output_type": "stream",
     "text": [
      "Total tests: 5\n",
      "Passed tests: 5\n",
      "Total grade for question 2 is 1.0\n"
     ]
    }
   ],
   "source": [
    "q2 = test_func_from_file(fib, 'hw8_q_2.txt')\n",
    "print(\"Total grade for question 2 is\", q2)"
   ]
  },
  {
   "cell_type": "markdown",
   "metadata": {},
   "source": [
    "### Ex3 Modulo (1.5 point)\n",
    "Write a function to calculate $(c**s)mod(z)$ where $c,s,z \\geq 10^{12}$"
   ]
  },
  {
   "cell_type": "code",
   "execution_count": 125,
   "metadata": {},
   "outputs": [],
   "source": [
    "def mod(c,s,z):\n",
    "    if s == 0:\n",
    "        return 1 % z\n",
    "    \n",
    "    u = mod(c, s // 2, z)\n",
    "    u = (u * u) % z\n",
    "    if s % 2 == 1:\n",
    "        u = (u * c) % z\n",
    "\n",
    "    return u\n"
   ]
  },
  {
   "cell_type": "markdown",
   "metadata": {},
   "source": [
    "**Test**"
   ]
  },
  {
   "cell_type": "code",
   "execution_count": 126,
   "metadata": {},
   "outputs": [
    {
     "name": "stdout",
     "output_type": "stream",
     "text": [
      "Total tests: 5\n",
      "Passed tests: 5\n",
      "Total grade for question 3 is 1.5\n"
     ]
    }
   ],
   "source": [
    "q3 = test_func_from_file(mod, 'hw8_q_3.txt', max_grade = 1.5)\n",
    "print(\"Total grade for question 3 is\", q3)"
   ]
  },
  {
   "cell_type": "markdown",
   "metadata": {},
   "source": [
    "### Ex4 Gradient descent (5 points)"
   ]
  },
  {
   "cell_type": "markdown",
   "metadata": {},
   "source": [
    "You are given 3 functions\n",
    "\n",
    "$$\n",
    "    f(x_1, x_2) = x_1^4 + x_2^2 - x_1*x_2 + 9 \\\\\n",
    "\n",
    "    g(x) = (x + 1)^2 \\\\\n",
    "    \n",
    "    h(\\mathbf{x}) =  g(f(\\mathbf{x})-9)\n",
    "$$\n",
    "\n"
   ]
  },
  {
   "cell_type": "markdown",
   "metadata": {},
   "source": [
    "1. Write 5 functions to calculate\n",
    "-  $g(x)$\n",
    "- $\\frac{dg(x)}{dx}$\n",
    "- $f(\\mathbf{x})$\n",
    "- $\\frac{\\partial f(\\mathbf{x})}{\\partial x_1}$\n",
    "- $\\frac{\\partial f(\\mathbf{x})}{\\partial x_2}$\n"
   ]
  },
  {
   "cell_type": "code",
   "execution_count": 127,
   "metadata": {},
   "outputs": [],
   "source": [
    "def g(x: float) -> float:\n",
    "    return (x + 1) ** 2\n",
    "\n",
    "def d_g_x(x : float) -> float:\n",
    "    return 2 * x + 2\n",
    "\n",
    "def f(x_1 : float, x_2 : float) -> float:\n",
    "    return x_1 ** 4 + x_2 ** 2 - x_1 * x_2 + 9\n",
    "\n",
    "def d_f_x1(x_1 : float, x_2 : float) -> float:\n",
    "    return 4 * (x_1 ** 3) - x_2 \n",
    "\n",
    "def d_f_x2(x_1 : float, x_2 : float) -> float:\n",
    "    return 2 * x_2 - x_1"
   ]
  },
  {
   "cell_type": "markdown",
   "metadata": {},
   "source": [
    "**Test**"
   ]
  },
  {
   "cell_type": "code",
   "execution_count": 128,
   "metadata": {},
   "outputs": [
    {
     "name": "stdout",
     "output_type": "stream",
     "text": [
      "Total tests: 5\n",
      "Passed tests: 5\n",
      "Total tests: 5\n",
      "Passed tests: 5\n",
      "Total tests: 5\n",
      "Passed tests: 5\n",
      "Total tests: 5\n",
      "Passed tests: 5\n",
      "Total tests: 5\n",
      "Passed tests: 5\n"
     ]
    },
    {
     "data": {
      "text/plain": [
       "2.5"
      ]
     },
     "execution_count": 128,
     "metadata": {},
     "output_type": "execute_result"
    }
   ],
   "source": [
    "q411 = test_func_from_file(g,input_file = 'hw8_q_4_1_1.txt', max_grade = 0.5)\n",
    "q412 = test_func_from_file(d_g_x,input_file = 'hw8_q_4_1_2.txt', max_grade = 0.5)\n",
    "q413 = test_func_from_file(f,input_file = 'hw8_q_4_1_3.txt', max_grade = 0.5)\n",
    "q414 = test_func_from_file(d_f_x1,input_file = 'hw8_q_4_1_4.txt', max_grade = 0.5)\n",
    "q415 = test_func_from_file(d_f_x2,input_file = 'hw8_q_4_1_5.txt', max_grade = 0.5)\n",
    "\n",
    "q41 = q411 + q412 + q413 + q414 + q415\n",
    "q41"
   ]
  },
  {
   "cell_type": "markdown",
   "metadata": {},
   "source": [
    "2. Perform optimization on single function. \n",
    "\n",
    "In optimization, in order to find the variable $x$ to minimize a function $f(x)$, we use the formula \n",
    "    \n",
    "$$\n",
    "    \n",
    "    x_{k+1} = x_k + \\mu * \\nabla f(x_k)\n",
    "    \n",
    "$$ \n",
    "\n",
    "until converge. Specifically, \n",
    "$$\n",
    "    |x_{k+1} - x_k | \\leq \\epsilon\n",
    "$$\n",
    "\n",
    "With $\\mu$ and $x_0$ predefined, and $\\epsilon$ is a very small number (0,0001)\n",
    "\n",
    "With any $x_0$, $x_2^0$ and $x_1^0$ Using gradient descent to find local minimum value for $g(x)$ and $f(x)$."
   ]
  },
  {
   "cell_type": "code",
   "execution_count": 129,
   "metadata": {},
   "outputs": [],
   "source": [
    "epsilon = 0.00001\n",
    "def GD_f_x(x_1 : float, x_2 : float, eta=0.001, n=10000) -> float:\n",
    "    for i in range(n):\n",
    "        new_x1 = x_1 - eta * d_f_x1(x_1, x_2)\n",
    "        new_x2 = x_2 - eta * d_f_x2(x_1, x_2)\n",
    "\n",
    "        #if abs(new_x1 - x_1) <= epsilon and abs(new_x2 - x_2) <= epsilon:\n",
    "        #    break\n",
    "\n",
    "        x_1 = new_x1\n",
    "        x_2 = new_x2\n",
    "\n",
    "    return f(x_1, x_2)\n",
    "\n",
    "def GD_g_x(x : float, eta = 0.1, n = 10000)-> float:\n",
    "    for i in range(n):\n",
    "        new_x = x - eta * d_g_x(x)\n",
    "\n",
    "        #if abs(new_x - x) <= epsilon:\n",
    "        #    break\n",
    "        \n",
    "        x = new_x\n",
    "\n",
    "    return g(x)        \n",
    "        "
   ]
  },
  {
   "cell_type": "markdown",
   "metadata": {},
   "source": [
    "**Test**"
   ]
  },
  {
   "cell_type": "code",
   "execution_count": 130,
   "metadata": {},
   "outputs": [
    {
     "name": "stdout",
     "output_type": "stream",
     "text": [
      "Total tests: 5\n",
      "Passed tests: 5\n",
      "Total tests: 5\n",
      "Passed tests: 5\n"
     ]
    },
    {
     "data": {
      "text/plain": [
       "1.5"
      ]
     },
     "execution_count": 130,
     "metadata": {},
     "output_type": "execute_result"
    }
   ],
   "source": [
    "q421 = test_func_from_file(GD_g_x, input_file = 'hw8_q_4_2_1.txt', max_grade = 1, delta = 1e-3)\n",
    "q422 = test_func_from_file(GD_f_x, input_file = 'hw8_q_4_2_2.txt', max_grade = 0.5, delta = 1e-3)\n",
    "\n",
    "q42 = q421 + q422\n",
    "q42"
   ]
  },
  {
   "cell_type": "markdown",
   "metadata": {},
   "source": [
    "3. Perform optimization on $h(x)$, using chain rule\n",
    "\n",
    "Note:\n",
    "$$\n",
    "    \\frac{\\partial h}{\\partial x} = \\frac{\\partial h}{\\partial f} * \\frac{\\partial f}{\\partial x}\n",
    "$$\n",
    "\n",
    "Try to understand what is $\\frac{\\partial h}{\\partial f}$"
   ]
  },
  {
   "cell_type": "code",
   "execution_count": 131,
   "metadata": {},
   "outputs": [],
   "source": [
    "def h(x_1 : float, x_2 : float) -> float:\n",
    "    return g(f(x_1, x_2) - 9)\n",
    "\n",
    "def GD_h_x (x_1 : float, x_2 : float, eta = 0.001, n = 100000) -> float:\n",
    "    for i in range(n):\n",
    "        val_f_x = f(x_1, x_2)\n",
    "        dg = d_g_x(val_f_x - 9)\n",
    "\n",
    "        new_x_1 = x_1 - eta * d_f_x1(x_1, x_2) * dg\n",
    "        new_x_2 = x_2 - eta * d_f_x2(x_1, x_2) * dg\n",
    "\n",
    "        #if abs(new_x_1 - x_1) <= epsilon and abs(new_x_2 - x_2) <= epsilon:\n",
    "        #    break\n",
    "        \n",
    "        x_1 = new_x_1\n",
    "        x_2 = new_x_2\n",
    "\n",
    "    return h(x_1, x_2)\n",
    "    "
   ]
  },
  {
   "cell_type": "markdown",
   "metadata": {},
   "source": [
    "**Test**"
   ]
  },
  {
   "cell_type": "code",
   "execution_count": 132,
   "metadata": {},
   "outputs": [
    {
     "name": "stdout",
     "output_type": "stream",
     "text": [
      "Total tests: 5\n",
      "Passed tests: 5\n"
     ]
    },
    {
     "data": {
      "text/plain": [
       "1.0"
      ]
     },
     "execution_count": 132,
     "metadata": {},
     "output_type": "execute_result"
    }
   ],
   "source": [
    "q43 = test_func_from_file(GD_h_x, input_file = 'hw8_q_4_3.txt', max_grade = 1.0, delta = 1e-3)\n",
    "q43"
   ]
  },
  {
   "cell_type": "code",
   "execution_count": 133,
   "metadata": {},
   "outputs": [
    {
     "name": "stdout",
     "output_type": "stream",
     "text": [
      "Total grade for question 4 is 5.0\n"
     ]
    }
   ],
   "source": [
    "q4 = q41 + q42 + q43\n",
    "print(\"Total grade for question 4 is\", q4)"
   ]
  },
  {
   "cell_type": "markdown",
   "metadata": {},
   "source": [
    "### Ex5 Write a Function to Validate an IPv4 Address (1.5 point)\n",
    "\n",
    "An IPv4 Address consist of 4 number ranging from 0 to 255 (e.g 192.18.18.34), and the number must not have leading zero (e.g 0.0.0.1 is valid but 01.0.0.1 is not valid).\n",
    "\n",
    "Write a python code to validate the ip address"
   ]
  },
  {
   "cell_type": "code",
   "execution_count": 134,
   "metadata": {},
   "outputs": [],
   "source": [
    "from grade_func.grader import test_func_from_file"
   ]
  },
  {
   "cell_type": "code",
   "execution_count": 135,
   "metadata": {},
   "outputs": [],
   "source": [
    "def is_ipv4(ip : str) -> bool:\n",
    "    ip_address = ip.split('.')\n",
    "\n",
    "    if len(ip_address) > 4:\n",
    "        return False\n",
    "    \n",
    "    for address in ip_address:\n",
    "        if address.isdigit() == False or (len(address) > 1 and address[0] == '0'):\n",
    "            return False\n",
    "        num_part = int(address)\n",
    "        if num_part < 0 or num_part > 255:\n",
    "            return False\n",
    "    \n",
    "    return True\n",
    "    "
   ]
  },
  {
   "cell_type": "code",
   "execution_count": 136,
   "metadata": {},
   "outputs": [
    {
     "name": "stdout",
     "output_type": "stream",
     "text": [
      "Total tests: 5\n",
      "Passed tests: 5\n",
      "Total grade for question 5 is 1.5\n"
     ]
    }
   ],
   "source": [
    "q5 = test_func_from_file(is_ipv4, 'hw8_q_5.txt', plain_text_input = True, max_grade = 1.5)\n",
    "print(\"Total grade for question 5 is\", q5)"
   ]
  },
  {
   "cell_type": "code",
   "execution_count": 137,
   "metadata": {},
   "outputs": [
    {
     "name": "stdout",
     "output_type": "stream",
     "text": [
      "Total grade for homework 8 is 10.0\n"
     ]
    }
   ],
   "source": [
    "print(\"Total grade for homework 8 is\", q1 + q2 + q3 + q4 + q5)"
   ]
  }
 ],
 "metadata": {
  "kernelspec": {
   "display_name": "Python 3",
   "language": "python",
   "name": "python3"
  },
  "language_info": {
   "codemirror_mode": {
    "name": "ipython",
    "version": 3
   },
   "file_extension": ".py",
   "mimetype": "text/x-python",
   "name": "python",
   "nbconvert_exporter": "python",
   "pygments_lexer": "ipython3",
   "version": "3.12.4"
  }
 },
 "nbformat": 4,
 "nbformat_minor": 2
}
